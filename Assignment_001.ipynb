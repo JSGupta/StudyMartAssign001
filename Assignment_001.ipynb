{
 "cells": [
  {
   "cell_type": "code",
   "execution_count": 3,
   "id": "9bb636de",
   "metadata": {},
   "outputs": [
    {
     "name": "stdout",
     "output_type": "stream",
     "text": [
      "After swapping: a = 10 b = 5\n"
     ]
    }
   ],
   "source": [
    "#01\n",
    "a=5\n",
    "b=10\n",
    "#lets assume a temporary variable x\n",
    "x=a\n",
    "a=b\n",
    "b=x\n",
    "print(\"After swapping: a =\", a, \"b =\", b)"
   ]
  },
  {
   "cell_type": "code",
   "execution_count": 4,
   "id": "a39bbb27",
   "metadata": {},
   "outputs": [
    {
     "name": "stdout",
     "output_type": "stream",
     "text": [
      "50\n"
     ]
    }
   ],
   "source": [
    "#02\n",
    "Width=5\n",
    "Length=10\n",
    "Area=print(Width*Length)"
   ]
  },
  {
   "cell_type": "code",
   "execution_count": 6,
   "id": "59d0ee2e",
   "metadata": {},
   "outputs": [
    {
     "name": "stdout",
     "output_type": "stream",
     "text": [
      "37.0\n"
     ]
    }
   ],
   "source": [
    "#03\n",
    "fahrenheit = 98.6\n",
    "celsius=print((fahrenheit-32)*5/9)\n"
   ]
  },
  {
   "cell_type": "code",
   "execution_count": 7,
   "id": "96abed22",
   "metadata": {},
   "outputs": [
    {
     "name": "stdout",
     "output_type": "stream",
     "text": [
      "The volume of the sphere is: 904.7786842338603\n"
     ]
    }
   ],
   "source": [
    "#04 Program to calculate the volume of a sphere\n",
    "import math\n",
    "\n",
    "radius = 6\n",
    "\n",
    "# Calculate volume\n",
    "volume = (4/3) * math.pi * (radius ** 3)\n",
    "\n",
    "# Output the result\n",
    "print(\"The volume of the sphere is:\", volume)\n"
   ]
  },
  {
   "cell_type": "code",
   "execution_count": 9,
   "id": "f2c1c627",
   "metadata": {},
   "outputs": [
    {
     "name": "stdout",
     "output_type": "stream",
     "text": [
      "The average of the three number is: 30.0\n"
     ]
    }
   ],
   "source": [
    "#05\n",
    "num1=25\n",
    "num2=31\n",
    "num3=34\n",
    "average=(num1+num2+num3)/3\n",
    "print(\"The average of the three number is:\",average)"
   ]
  },
  {
   "cell_type": "code",
   "execution_count": 11,
   "id": "4850d032",
   "metadata": {},
   "outputs": [
    {
     "name": "stdout",
     "output_type": "stream",
     "text": [
      "7 is odd\n"
     ]
    }
   ],
   "source": [
    "#06\n",
    "#lets assume a number x\n",
    "x=7\n",
    "if x%2==0:\n",
    "    print(x, \"is even\")\n",
    "else:\n",
    "    print(x,\"is odd\")\n",
    "    \n"
   ]
  },
  {
   "cell_type": "code",
   "execution_count": 12,
   "id": "7f197f8a",
   "metadata": {},
   "outputs": [
    {
     "name": "stdout",
     "output_type": "stream",
     "text": [
      "The maximum number is: 35\n"
     ]
    }
   ],
   "source": [
    "#07\n",
    "num1=20\n",
    "num2=35\n",
    "num3=5\n",
    "maximum=max(num1,num2,num3)\n",
    "print(\"The maximum number is:\", maximum)"
   ]
  },
  {
   "cell_type": "code",
   "execution_count": 13,
   "id": "c3ac5781",
   "metadata": {},
   "outputs": [
    {
     "name": "stdout",
     "output_type": "stream",
     "text": [
      "2020 is a leap year\n"
     ]
    }
   ],
   "source": [
    "#08\n",
    "year=2020\n",
    "if(year%4==0 and year%100 !=0):\n",
    "    print(year, \"is a leap year\")\n",
    "else:\n",
    "    print(year, \"is not a leap year\")"
   ]
  },
  {
   "cell_type": "code",
   "execution_count": 14,
   "id": "a823705e",
   "metadata": {},
   "outputs": [
    {
     "name": "stdout",
     "output_type": "stream",
     "text": [
      "-3 is negative\n"
     ]
    }
   ],
   "source": [
    "#09\n",
    "number=-3\n",
    "if number>0:\n",
    "    print(number, \"is positive\")\n",
    "elif number<0:\n",
    "    print(number, \"is negative\")\n",
    "else:\n",
    "    print(number, \"is zero\")"
   ]
  },
  {
   "cell_type": "code",
   "execution_count": 17,
   "id": "133e300c",
   "metadata": {},
   "outputs": [
    {
     "name": "stdout",
     "output_type": "stream",
     "text": [
      "Percentage grade is: B\n"
     ]
    }
   ],
   "source": [
    "#10\n",
    "percentage=82\n",
    "if percentage>=90:\n",
    "    grade=\"A\"\n",
    "elif percentage>=80:\n",
    "    grade=\"B\"\n",
    "elif percentage>=70:\n",
    "    grade=\"C\"\n",
    "elif percentage>=60:\n",
    "    grade=\"D\"\n",
    "else:\n",
    "    grade=\"F\"\n",
    "print(\"Percentage grade is:\", grade)\n"
   ]
  },
  {
   "cell_type": "code",
   "execution_count": 18,
   "id": "39e93967",
   "metadata": {},
   "outputs": [
    {
     "name": "stdout",
     "output_type": "stream",
     "text": [
      "1\n",
      "2\n",
      "3\n",
      "4\n",
      "5\n",
      "6\n",
      "7\n",
      "8\n",
      "9\n",
      "10\n"
     ]
    }
   ],
   "source": [
    "#11\n",
    "n=10\n",
    "for i in range(1, n+1):\n",
    "    print(i)"
   ]
  },
  {
   "cell_type": "code",
   "execution_count": 21,
   "id": "a6757f69",
   "metadata": {},
   "outputs": [
    {
     "name": "stdout",
     "output_type": "stream",
     "text": [
      "The Factorial of 5 is : 120\n"
     ]
    }
   ],
   "source": [
    "#12\n",
    "number=5\n",
    "factorial=1\n",
    "for i in range(1, number+1):\n",
    "    factorial*=i\n",
    "print(\"The Factorial of\", number, \"is :\", factorial)"
   ]
  },
  {
   "cell_type": "code",
   "execution_count": 22,
   "id": "d744a357",
   "metadata": {},
   "outputs": [
    {
     "name": "stdout",
     "output_type": "stream",
     "text": [
      "Fibonacci sequence of length 10 : [0, 1, 1, 2, 3, 5, 8, 13, 21, 34]\n"
     ]
    }
   ],
   "source": [
    "#13\n",
    "\n",
    "n = 10\n",
    "fib_sequence = [0, 1]\n",
    "for i in range(2, n):\n",
    "    next_number = fib_sequence[-1] + fib_sequence[-2]\n",
    "    fib_sequence.append(next_number)\n",
    "print(\"Fibonacci sequence of length\", n, \":\", fib_sequence)"
   ]
  },
  {
   "cell_type": "code",
   "execution_count": 1,
   "id": "ff92216a",
   "metadata": {},
   "outputs": [
    {
     "name": "stdout",
     "output_type": "stream",
     "text": [
      "29 is a prime number\n"
     ]
    }
   ],
   "source": [
    "#14\n",
    "number = 29\n",
    "is_prime = True\n",
    "if number > 1:\n",
    "    for i in range(2, int(number ** 0.5) + 1):\n",
    "        if number % i == 0:\n",
    "            is_prime = False\n",
    "            break\n",
    "else:\n",
    "    is_prime = False\n",
    "if is_prime:\n",
    "    print(number, \"is a prime number\")\n",
    "else:\n",
    "    print(number, \"is not a prime number\")\n",
    "\n"
   ]
  },
  {
   "cell_type": "code",
   "execution_count": 2,
   "id": "161a1e16",
   "metadata": {},
   "outputs": [
    {
     "name": "stdout",
     "output_type": "stream",
     "text": [
      "5 x 1 = 5\n",
      "5 x 2 = 10\n",
      "5 x 3 = 15\n",
      "5 x 4 = 20\n",
      "5 x 5 = 25\n",
      "5 x 6 = 30\n",
      "5 x 7 = 35\n",
      "5 x 8 = 40\n",
      "5 x 9 = 45\n",
      "5 x 10 = 50\n"
     ]
    }
   ],
   "source": [
    "#15\n",
    "number = 5\n",
    "for i in range(1, 11):\n",
    "    print(f\"{number} x {i} =\", number * i)\n"
   ]
  },
  {
   "cell_type": "code",
   "execution_count": 3,
   "id": "e5d47ab8",
   "metadata": {},
   "outputs": [
    {
     "name": "stdout",
     "output_type": "stream",
     "text": [
      "Sum of all even numbers between 1 and 10 is: 30\n"
     ]
    }
   ],
   "source": [
    "#16\n",
    "n = 10\n",
    "sum_even = 0\n",
    "i = 1\n",
    "\n",
    "while i <= n:\n",
    "    if i % 2 == 0:\n",
    "        sum_even += i\n",
    "    i += 1\n",
    "\n",
    "print(\"Sum of all even numbers between 1 and\", n, \"is:\", sum_even)\n"
   ]
  },
  {
   "cell_type": "code",
   "execution_count": 4,
   "id": "b556e7e4",
   "metadata": {},
   "outputs": [
    {
     "name": "stdout",
     "output_type": "stream",
     "text": [
      "Reversed number is: 54321\n"
     ]
    }
   ],
   "source": [
    "#17\n",
    "number = 12345\n",
    "reverse = 0\n",
    "\n",
    "\n",
    "while number > 0:\n",
    "    digit = number % 10\n",
    "    reverse = reverse * 10 + digit\n",
    "    number = number // 10\n",
    "\n",
    "\n",
    "print(\"Reversed number is:\", reverse)\n"
   ]
  },
  {
   "cell_type": "code",
   "execution_count": 7,
   "id": "58f49b92",
   "metadata": {},
   "outputs": [
    {
     "name": "stdout",
     "output_type": "stream",
     "text": [
      "radar is a palindrome\n"
     ]
    }
   ],
   "source": [
    "#18\n",
    "string = \"radar\"\n",
    "\n",
    "if string == string[::-1]:\n",
    "    print(string, \"is a palindrome\")\n",
    "else:\n",
    "    print(string, \"is not a palindrome\")\n"
   ]
  },
  {
   "cell_type": "code",
   "execution_count": 8,
   "id": "4e78bf4d",
   "metadata": {},
   "outputs": [
    {
     "name": "stdout",
     "output_type": "stream",
     "text": [
      "The GCD of 48 and 18 is: 6\n"
     ]
    }
   ],
   "source": [
    "#20\n",
    "def gcd(a, b):\n",
    "    while b:\n",
    "        a, b = b, a % b\n",
    "    return a\n",
    "\n",
    "num1 = 48\n",
    "num2 = 18\n",
    "\n",
    "print(\"The GCD of\", num1, \"and\", num2, \"is:\", gcd(num1, num2))\n"
   ]
  },
  {
   "cell_type": "code",
   "execution_count": null,
   "id": "6cff9bb1",
   "metadata": {},
   "outputs": [],
   "source": []
  }
 ],
 "metadata": {
  "kernelspec": {
   "display_name": "Python 3 (ipykernel)",
   "language": "python",
   "name": "python3"
  },
  "language_info": {
   "codemirror_mode": {
    "name": "ipython",
    "version": 3
   },
   "file_extension": ".py",
   "mimetype": "text/x-python",
   "name": "python",
   "nbconvert_exporter": "python",
   "pygments_lexer": "ipython3",
   "version": "3.9.12"
  }
 },
 "nbformat": 4,
 "nbformat_minor": 5
}
